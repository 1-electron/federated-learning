{
 "cells": [
  {
   "cell_type": "code",
   "execution_count": null,
   "metadata": {},
   "outputs": [],
   "source": [
    "from Node import Node\n",
    "from util import fetch_minibatch\n",
    "import numpy as np\n",
    "import tensorflow as tf\n",
    "from time import time\n",
    "import matplotlib.pyplot as plt\n",
    "plt.style.use(\"ggplot\")\n",
    "%matplotlib inline"
   ]
  },
  {
   "cell_type": "code",
   "execution_count": null,
   "metadata": {},
   "outputs": [],
   "source": [
    "from sklearn import datasets\n",
    "iris = datasets.load_iris()\n",
    "X_full = iris.data\n",
    "y_full = np.eye(3)[iris.target]\n",
    "n_features = X_full[0].shape[0]\n",
    "n_classes = y_full[0].shape[0]"
   ]
  },
  {
   "cell_type": "code",
   "execution_count": null,
   "metadata": {},
   "outputs": [],
   "source": [
    "server_batch_size = 30\n",
    "\n",
    "X_test, y_test = fetch_minibatch(X_full, y_full, server_batch_size)\n",
    "\n",
    "with tf.Session() as sess:    \n",
    "    Master = Node(sess, n_features, n_classes)\n",
    "    sess.run(tf.global_variables_initializer())\n",
    "        \n",
    "    print(\"untrained accuracy: \", Master.score(X_full, y_full))\n",
    "    \n",
    "    n_epochs = 20\n",
    "    X_server, y_server = fetch_minibatch(X_full, y_full, server_batch_size)\n",
    "    Master.fit(X_server, y_server, n_epochs)\n",
    "    \n",
    "    print(\"accuracy, using updated weights {0:.3f} \".format(Master.score(X_full, y_full)))\n",
    "    \n",
    "    server_w1 = Master.fetch_weights()"
   ]
  },
  {
   "cell_type": "code",
   "execution_count": null,
   "metadata": {},
   "outputs": [],
   "source": [
    "original_server_w1 = server_w1"
   ]
  },
  {
   "cell_type": "code",
   "execution_count": null,
   "metadata": {},
   "outputs": [],
   "source": [
    "learning_rate = .1\n",
    "n_epochs = 500\n",
    "n_clients = 5\n",
    "client_batch_size = 5\n",
    "n_rounds = 10\n",
    "ls_accuracy = []\n",
    "\n",
    "with tf.Session() as sess:\n",
    "    Worker = Node(sess, n_features, n_classes)\n",
    "    sess.run(tf.global_variables_initializer())\n",
    "    \n",
    "    for r in range(n_rounds):\n",
    "        s = time()\n",
    "        \n",
    "        # each round needs a new average client weights\n",
    "        ls_client_w1 = []\n",
    "        \n",
    "        for client in range(n_clients):\n",
    "\n",
    "            # each client receives the same server weight\n",
    "            client_w1 = server_w1\n",
    "\n",
    "            # each client has their own minibatch\n",
    "            X_client, y_client = fetch_minibatch(X_full, y_full, client_batch_size)\n",
    "            \n",
    "            # calculate term b gradient using (1) server weights and (2) client data\n",
    "            term_b = Worker.fetch_grad(server_w1, X_client, y_client)\n",
    "            \n",
    "            # compute term c gradient using (1) server weights and (2) server data\n",
    "            term_c = Worker.fetch_grad(server_w1, X_server, y_server)\n",
    "\n",
    "            # client parameter updates\n",
    "            for n in range(n_epochs):\n",
    "                # compute term a gradient using (1) client weights and (2) client data\n",
    "                term_a = Worker.fetch_grad(client_w1, X_client, y_client)\n",
    "\n",
    "                # update client weights\n",
    "                client_w1 = client_w1 - learning_rate * (term_a - term_b + term_c)\n",
    "\n",
    "            # track weights for each client\n",
    "            ls_client_w1.append(client_w1)\n",
    "        \n",
    "        # after all clients are accounted for, update server weights each round\n",
    "        server_w1 = np.mean(ls_client_w1, axis=0)\n",
    "        Worker.load(server_w1)\n",
    "        acc = Worker.score(X_full, y_full)\n",
    "        print(\"round {} execution time: {} accuracy: {}\".format(r, time() - s, acc))\n",
    "        ls_accuracy.append(acc)\n",
    "    \n",
    "print(\"completed\")\n",
    "plt.plot(ls_accuracy)"
   ]
  },
  {
   "cell_type": "code",
   "execution_count": null,
   "metadata": {},
   "outputs": [],
   "source": [
    "with tf.Session() as sess:    \n",
    "    Master = Client(sess, n_features, n_classes)\n",
    "    sess.run(tf.global_variables_initializer())\n",
    "    \n",
    "    Master.load(original_server_w1)\n",
    "    print(\"untrained accuracy: \", Master.score(X_test, y_test))\n",
    "    Master.load(server_w1)  # use average weights from clients\n",
    "    print(\"accuracy, using updated weights: \", Master.score(X_test, y_test))"
   ]
  },
  {
   "cell_type": "code",
   "execution_count": null,
   "metadata": {},
   "outputs": [],
   "source": []
  },
  {
   "cell_type": "code",
   "execution_count": null,
   "metadata": {},
   "outputs": [],
   "source": []
  }
 ],
 "metadata": {
  "kernelspec": {
   "display_name": "Python 3",
   "language": "python",
   "name": "python3"
  },
  "language_info": {
   "codemirror_mode": {
    "name": "ipython",
    "version": 3
   },
   "file_extension": ".py",
   "mimetype": "text/x-python",
   "name": "python",
   "nbconvert_exporter": "python",
   "pygments_lexer": "ipython3",
   "version": "3.7.3"
  }
 },
 "nbformat": 4,
 "nbformat_minor": 2
}
