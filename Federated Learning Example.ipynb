{
 "cells": [
  {
   "cell_type": "code",
   "execution_count": 1,
   "metadata": {},
   "outputs": [],
   "source": [
    "from Node import Node\n",
    "from util import fetch_minibatch\n",
    "import numpy as np\n",
    "import tensorflow as tf\n",
    "from time import time\n",
    "import matplotlib.pyplot as plt\n",
    "plt.style.use(\"ggplot\")\n",
    "%matplotlib inline"
   ]
  },
  {
   "cell_type": "code",
   "execution_count": 2,
   "metadata": {},
   "outputs": [],
   "source": [
    "from sklearn import datasets\n",
    "iris = datasets.load_iris()\n",
    "X_full = iris.data\n",
    "y_full = np.eye(3)[iris.target]\n",
    "n_features = X_full[0].shape[0]\n",
    "n_classes = y_full[0].shape[0]"
   ]
  },
  {
   "cell_type": "code",
   "execution_count": 3,
   "metadata": {},
   "outputs": [
    {
     "name": "stderr",
     "output_type": "stream",
     "text": [
      "WARNING: Logging before flag parsing goes to stderr.\n",
      "W0515 11:18:13.988559  1376 deprecation_wrapper.py:119] From C:\\Users\\vinjain5\\Desktop\\federated-learning\\Node.py:7: The name tf.placeholder is deprecated. Please use tf.compat.v1.placeholder instead.\n",
      "\n",
      "W0515 11:18:13.996582  1376 deprecation_wrapper.py:119] From C:\\Users\\vinjain5\\Desktop\\federated-learning\\Node.py:9: The name tf.random_uniform is deprecated. Please use tf.random.uniform instead.\n",
      "\n",
      "W0515 11:18:14.006587  1376 deprecation_wrapper.py:119] From C:\\Users\\vinjain5\\Desktop\\federated-learning\\Node.py:14: The name tf.losses.log_loss is deprecated. Please use tf.compat.v1.losses.log_loss instead.\n",
      "\n",
      "W0515 11:18:14.053464  1376 deprecation_wrapper.py:119] From C:\\Users\\vinjain5\\Desktop\\federated-learning\\Node.py:15: The name tf.train.AdamOptimizer is deprecated. Please use tf.compat.v1.train.AdamOptimizer instead.\n",
      "\n"
     ]
    },
    {
     "name": "stdout",
     "output_type": "stream",
     "text": [
      "untrained accuracy:  0.41333333\n",
      "accuracy, using updated weights 0.680 \n"
     ]
    }
   ],
   "source": [
    "server_batch_size = 30\n",
    "\n",
    "X_test, y_test = fetch_minibatch(X_full, y_full, server_batch_size)\n",
    "\n",
    "with tf.Session() as sess:    \n",
    "    Master = Node(sess, n_features, n_classes)\n",
    "    sess.run(tf.global_variables_initializer())\n",
    "        \n",
    "    print(\"untrained accuracy: \", Master.score(X_full, y_full))\n",
    "    \n",
    "    n_epochs = 20\n",
    "    X_server, y_server = fetch_minibatch(X_full, y_full, server_batch_size)\n",
    "    Master.fit(X_server, y_server, n_epochs)\n",
    "    \n",
    "    print(\"accuracy, using updated weights {0:.3f} \".format(Master.score(X_full, y_full)))\n",
    "    \n",
    "    server_w1 = Master.fetch_weights()"
   ]
  },
  {
   "cell_type": "code",
   "execution_count": 4,
   "metadata": {},
   "outputs": [],
   "source": [
    "original_server_w1 = server_w1"
   ]
  },
  {
   "cell_type": "code",
   "execution_count": 5,
   "metadata": {},
   "outputs": [
    {
     "name": "stderr",
     "output_type": "stream",
     "text": [
      "W0515 11:18:14.639450  1376 deprecation.py:323] From C:\\Users\\vinjain5\\Desktop\\federated-learning\\Node.py:27: Variable.load (from tensorflow.python.ops.variables) is deprecated and will be removed in a future version.\n",
      "Instructions for updating:\n",
      "Prefer Variable.assign which has equivalent behavior in 2.X.\n"
     ]
    },
    {
     "name": "stdout",
     "output_type": "stream",
     "text": [
      "round 0 execution time: 0.9868860244750977 accuracy: 0.9200000166893005\n",
      "round 1 execution time: 0.9167697429656982 accuracy: 0.9666666388511658\n",
      "round 2 execution time: 1.0182163715362549 accuracy: 0.9666666388511658\n",
      "round 3 execution time: 0.9712622165679932 accuracy: 0.9666666388511658\n",
      "round 4 execution time: 1.033839464187622 accuracy: 0.9666666388511658\n",
      "round 5 execution time: 1.0337395668029785 accuracy: 0.9599999785423279\n",
      "round 6 execution time: 0.9558031558990479 accuracy: 0.9200000166893005\n",
      "round 7 execution time: 1.0026662349700928 accuracy: 0.6800000071525574\n",
      "round 8 execution time: 0.9870350360870361 accuracy: 0.6666666865348816\n",
      "round 9 execution time: 0.964846134185791 accuracy: 0.6666666865348816\n",
      "completed\n"
     ]
    },
    {
     "data": {
      "text/plain": [
       "[<matplotlib.lines.Line2D at 0x2429a83c128>]"
      ]
     },
     "execution_count": 5,
     "metadata": {},
     "output_type": "execute_result"
    },
    {
     "data": {
      "image/png": "[encoded data removed]",
      "text/plain": [
       "<Figure size 432x288 with 1 Axes>"
      ]
     },
     "metadata": {
      "needs_background": "light"
     },
     "output_type": "display_data"
    }
   ],
   "source": [
    "learning_rate = .1\n",
    "n_epochs = 500\n",
    "n_clients = 5\n",
    "client_batch_size = 5\n",
    "n_rounds = 10\n",
    "ls_accuracy = []\n",
    "\n",
    "with tf.Session() as sess:\n",
    "    Worker = Node(sess, n_features, n_classes)\n",
    "    sess.run(tf.global_variables_initializer())\n",
    "    \n",
    "    for r in range(n_rounds):\n",
    "        s = time()\n",
    "        \n",
    "        # each round needs a new average client weights\n",
    "        ls_client_w1 = []\n",
    "        \n",
    "        for client in range(n_clients):\n",
    "\n",
    "            # each client receives the same server weight\n",
    "            client_w1 = server_w1\n",
    "\n",
    "            # each client has their own minibatch\n",
    "            X_client, y_client = fetch_minibatch(X_full, y_full, client_batch_size)\n",
    "            \n",
    "            # calculate term b gradient using (1) server weights and (2) client data\n",
    "            term_b = Worker.fetch_grad(server_w1, X_client, y_client)\n",
    "            \n",
    "            # compute term c gradient using (1) server weights and (2) server data\n",
    "            term_c = Worker.fetch_grad(server_w1, X_server, y_server)\n",
    "\n",
    "            # client parameter updates\n",
    "            for n in range(n_epochs):\n",
    "                # compute term a gradient using (1) client weights and (2) client data\n",
    "                term_a = Worker.fetch_grad(client_w1, X_client, y_client)\n",
    "\n",
    "                # update client weights\n",
    "                client_w1 = client_w1 - learning_rate * (term_a - term_b + term_c)\n",
    "\n",
    "            # track weights for each client\n",
    "            ls_client_w1.append(client_w1)\n",
    "        \n",
    "        # after all clients are accounted for, update server weights each round\n",
    "        server_w1 = np.mean(ls_client_w1, axis=0)\n",
    "        Worker.load(server_w1)\n",
    "        acc = Worker.score(X_full, y_full)\n",
    "        print(\"round {} execution time: {} accuracy: {}\".format(r, time() - s, acc))\n",
    "        ls_accuracy.append(acc)\n",
    "    \n",
    "print(\"completed\")\n",
    "plt.plot(ls_accuracy)"
   ]
  },
  {
   "cell_type": "code",
   "execution_count": 6,
   "metadata": {},
   "outputs": [
    {
     "name": "stdout",
     "output_type": "stream",
     "text": [
      "untrained accuracy:  0.56666666\n",
      "accuracy, using updated weights:  0.7\n"
     ]
    }
   ],
   "source": [
    "with tf.Session() as sess:    \n",
    "    Master = Node(sess, n_features, n_classes)\n",
    "    sess.run(tf.global_variables_initializer())\n",
    "    \n",
    "    Master.load(original_server_w1)\n",
    "    print(\"untrained accuracy: \", Master.score(X_test, y_test))\n",
    "    Master.load(server_w1)  # use average weights from clients\n",
    "    print(\"accuracy, using updated weights: \", Master.score(X_test, y_test))"
   ]
  },
  {
   "cell_type": "code",
   "execution_count": null,
   "metadata": {},
   "outputs": [],
   "source": []
  },
  {
   "cell_type": "code",
   "execution_count": null,
   "metadata": {},
   "outputs": [],
   "source": []
  },
  {
   "cell_type": "code",
   "execution_count": null,
   "metadata": {},
   "outputs": [],
   "source": []
  }
 ],
 "metadata": {
  "kernelspec": {
   "display_name": "Python 3",
   "language": "python",
   "name": "python3"
  },
  "language_info": {
   "codemirror_mode": {
    "name": "ipython",
    "version": 3
   },
   "file_extension": ".py",
   "mimetype": "text/x-python",
   "name": "python",
   "nbconvert_exporter": "python",
   "pygments_lexer": "ipython3",
   "version": "3.7.3"
  }
 },
 "nbformat": 4,
 "nbformat_minor": 2
}
